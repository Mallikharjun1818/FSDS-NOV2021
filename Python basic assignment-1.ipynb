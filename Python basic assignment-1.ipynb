{
 "cells": [
  {
   "cell_type": "code",
   "execution_count": 1,
   "id": "c176c969",
   "metadata": {},
   "outputs": [],
   "source": [
    "#1. In the below elements which of them are values or an expression? eg:- values can be integer or string and expressions will be mathematical operators.\n",
    "\n",
    "#Answer:\n",
    "# * is an expression\n",
    "# 'hello' is avalue\n",
    "# -87.8 is a value\n",
    "# - is an expression\n",
    "# / is an expression\n",
    "# +  is an expression\n",
    "# 6  is a value"
   ]
  },
  {
   "cell_type": "code",
   "execution_count": 2,
   "id": "3a5d83be",
   "metadata": {},
   "outputs": [],
   "source": [
    "# 2. What is the difference between string and variable?\n",
    "# Answer\n",
    "# Stringe is a Quote which canbe written by using quotes eg: \"Ineuron\", 'Fullstack' etc.\n",
    "# Variable is data that can be stored with alphbets, words eg: a= ineuron, b= fullstack c=17799 etc."
   ]
  },
  {
   "cell_type": "code",
   "execution_count": 3,
   "id": "9a8a49b5",
   "metadata": {},
   "outputs": [],
   "source": [
    "# 3. Describe three different data types.\n",
    "# Answer\n",
    "# three different types of data are\n",
    "# 1. Stringe: Stringe can be stored in only alaphbets eg: :\"stringe\"\n",
    "# 2. Integer : integer can be stored in only numericals eg: \"1234\"\n",
    "# 3. Floater : Floater can be stored in decimal values eg: 123.345."
   ]
  },
  {
   "cell_type": "code",
   "execution_count": 4,
   "id": "0255d544",
   "metadata": {},
   "outputs": [],
   "source": [
    "# 4.What is an expression made up of? What do all expressions do?\n",
    "# Answer\n",
    "# Expression is made up of values, containers, and mathematical operators (operands) e.g a = 20 + 43     \n",
    "# expressions are used to evaluate the values or represent the result on the screen."
   ]
  },
  {
   "cell_type": "code",
   "execution_count": 5,
   "id": "784f94b2",
   "metadata": {},
   "outputs": [],
   "source": [
    "# 5. This assignment statements, like spam = 10. \n",
    "# What is the difference between an expression and a statement?\n",
    "# Answer \n",
    "# Expression is made up of values, containers, and mathematical operators.\n",
    "# and the statement is just like a command that a python interpreter executes like print."
   ]
  },
  {
   "cell_type": "code",
   "execution_count": 6,
   "id": "910e68c0",
   "metadata": {},
   "outputs": [
    {
     "data": {
      "text/plain": [
       "23"
      ]
     },
     "execution_count": 6,
     "metadata": {},
     "output_type": "execute_result"
    }
   ],
   "source": [
    "# 6.  After running the following code, what does the variable bacon contain?\n",
    "# bacon = 22\n",
    "# bacon + 1\n",
    "# Answer \n",
    "bacon = 22\n",
    "bacon + 1\n"
   ]
  },
  {
   "cell_type": "code",
   "execution_count": 7,
   "id": "aa0dcd45",
   "metadata": {},
   "outputs": [
    {
     "data": {
      "text/plain": [
       "'spamspamspam'"
      ]
     },
     "execution_count": 7,
     "metadata": {},
     "output_type": "execute_result"
    }
   ],
   "source": [
    "# 7. What should the values of the following two terms be?\n",
    "#'spam' + 'spamspam'\n",
    "#'spam' * 3\n",
    "# Answer\n",
    "'spam' + 'spamspam'\n",
    "'spam' * 3\n"
   ]
  },
  {
   "cell_type": "code",
   "execution_count": 8,
   "id": "3ab939a1",
   "metadata": {},
   "outputs": [],
   "source": [
    "# 'spamspamspam'"
   ]
  },
  {
   "cell_type": "code",
   "execution_count": 9,
   "id": "a714f727",
   "metadata": {},
   "outputs": [],
   "source": [
    "# 8. Why is eggs a valid variable name while 100 is invalid?\n",
    "# Answer\n",
    "# because we can't start giving variable an integer name.\n",
    "# we should begin with, a string-like alphabet name then integer.\n",
    "# e100 or eggs100 is valid"
   ]
  },
  {
   "cell_type": "code",
   "execution_count": 10,
   "id": "68b2f37c",
   "metadata": {},
   "outputs": [],
   "source": [
    "# 9. What three functions can be used to get the integer, floating-point number, \n",
    "#or string version of a value?\n",
    "# Answer\n",
    "# str(),\n",
    "# int(),\n",
    "# float()"
   ]
  },
  {
   "cell_type": "code",
   "execution_count": 11,
   "id": "9de000fa",
   "metadata": {},
   "outputs": [
    {
     "data": {
      "text/plain": [
       "'I have eatenStr(99)burritos'"
      ]
     },
     "execution_count": 11,
     "metadata": {},
     "output_type": "execute_result"
    }
   ],
   "source": [
    "# 10.Why does this expression cause an error? How can you fix it?\n",
    "#'I have eaten ' + 99 + ' burritos.'\n",
    "# Answer\n",
    "# because 99 is an integer it cannot be concatenated with strings,\n",
    "# if we have to concatenate it we need to do typecasting\n",
    "\"I have eaten\" +'Str(99)'+ 'burritos'\n"
   ]
  },
  {
   "cell_type": "code",
   "execution_count": null,
   "id": "8c5da4de",
   "metadata": {},
   "outputs": [],
   "source": [
    "# 'I have eatenStr(99)burritos'"
   ]
  }
 ],
 "metadata": {
  "kernelspec": {
   "display_name": "Python 3 (ipykernel)",
   "language": "python",
   "name": "python3"
  },
  "language_info": {
   "codemirror_mode": {
    "name": "ipython",
    "version": 3
   },
   "file_extension": ".py",
   "mimetype": "text/x-python",
   "name": "python",
   "nbconvert_exporter": "python",
   "pygments_lexer": "ipython3",
   "version": "3.9.7"
  }
 },
 "nbformat": 4,
 "nbformat_minor": 5
}
